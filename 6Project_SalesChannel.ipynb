{
 "cells": [
  {
   "cell_type": "code",
   "execution_count": 1,
   "metadata": {},
   "outputs": [],
   "source": [
    "import numpy as np\n",
    "import pandas as pd\n",
    "import seaborn as sns\n",
    "import matplotlib.pyplot as plt\n",
    "%matplotlib inline\n",
    "import warnings\n",
    "warnings.filterwarnings('ignore')"
   ]
  },
  {
   "cell_type": "code",
   "execution_count": 2,
   "metadata": {},
   "outputs": [
    {
     "data": {
      "text/html": [
       "<div>\n",
       "<style scoped>\n",
       "    .dataframe tbody tr th:only-of-type {\n",
       "        vertical-align: middle;\n",
       "    }\n",
       "\n",
       "    .dataframe tbody tr th {\n",
       "        vertical-align: top;\n",
       "    }\n",
       "\n",
       "    .dataframe thead th {\n",
       "        text-align: right;\n",
       "    }\n",
       "</style>\n",
       "<table border=\"1\" class=\"dataframe\">\n",
       "  <thead>\n",
       "    <tr style=\"text-align: right;\">\n",
       "      <th></th>\n",
       "      <th>SerialNO</th>\n",
       "      <th>TV</th>\n",
       "      <th>radio</th>\n",
       "      <th>newspaper</th>\n",
       "      <th>sales</th>\n",
       "    </tr>\n",
       "  </thead>\n",
       "  <tbody>\n",
       "    <tr>\n",
       "      <td>0</td>\n",
       "      <td>1</td>\n",
       "      <td>230.1</td>\n",
       "      <td>37.8</td>\n",
       "      <td>69.2</td>\n",
       "      <td>22.1</td>\n",
       "    </tr>\n",
       "    <tr>\n",
       "      <td>1</td>\n",
       "      <td>2</td>\n",
       "      <td>44.5</td>\n",
       "      <td>39.3</td>\n",
       "      <td>45.1</td>\n",
       "      <td>10.4</td>\n",
       "    </tr>\n",
       "    <tr>\n",
       "      <td>2</td>\n",
       "      <td>3</td>\n",
       "      <td>17.2</td>\n",
       "      <td>45.9</td>\n",
       "      <td>69.3</td>\n",
       "      <td>9.3</td>\n",
       "    </tr>\n",
       "    <tr>\n",
       "      <td>3</td>\n",
       "      <td>4</td>\n",
       "      <td>151.5</td>\n",
       "      <td>41.3</td>\n",
       "      <td>58.5</td>\n",
       "      <td>18.5</td>\n",
       "    </tr>\n",
       "    <tr>\n",
       "      <td>4</td>\n",
       "      <td>5</td>\n",
       "      <td>180.8</td>\n",
       "      <td>10.8</td>\n",
       "      <td>58.4</td>\n",
       "      <td>12.9</td>\n",
       "    </tr>\n",
       "  </tbody>\n",
       "</table>\n",
       "</div>"
      ],
      "text/plain": [
       "   SerialNO     TV  radio  newspaper  sales\n",
       "0         1  230.1   37.8       69.2   22.1\n",
       "1         2   44.5   39.3       45.1   10.4\n",
       "2         3   17.2   45.9       69.3    9.3\n",
       "3         4  151.5   41.3       58.5   18.5\n",
       "4         5  180.8   10.8       58.4   12.9"
      ]
     },
     "execution_count": 2,
     "metadata": {},
     "output_type": "execute_result"
    }
   ],
   "source": [
    "#reading the dataset\n",
    "df=pd.read_csv('Saleschannel.csv')\n",
    "df.head()"
   ]
  },
  {
   "cell_type": "code",
   "execution_count": 3,
   "metadata": {},
   "outputs": [],
   "source": [
    "df=df.drop(columns='SerialNO',axis=1)"
   ]
  },
  {
   "cell_type": "code",
   "execution_count": 4,
   "metadata": {},
   "outputs": [
    {
     "data": {
      "text/html": [
       "<div>\n",
       "<style scoped>\n",
       "    .dataframe tbody tr th:only-of-type {\n",
       "        vertical-align: middle;\n",
       "    }\n",
       "\n",
       "    .dataframe tbody tr th {\n",
       "        vertical-align: top;\n",
       "    }\n",
       "\n",
       "    .dataframe thead th {\n",
       "        text-align: right;\n",
       "    }\n",
       "</style>\n",
       "<table border=\"1\" class=\"dataframe\">\n",
       "  <thead>\n",
       "    <tr style=\"text-align: right;\">\n",
       "      <th></th>\n",
       "      <th>TV</th>\n",
       "      <th>radio</th>\n",
       "      <th>newspaper</th>\n",
       "      <th>sales</th>\n",
       "    </tr>\n",
       "  </thead>\n",
       "  <tbody>\n",
       "    <tr>\n",
       "      <td>0</td>\n",
       "      <td>230.1</td>\n",
       "      <td>37.8</td>\n",
       "      <td>69.2</td>\n",
       "      <td>22.1</td>\n",
       "    </tr>\n",
       "    <tr>\n",
       "      <td>1</td>\n",
       "      <td>44.5</td>\n",
       "      <td>39.3</td>\n",
       "      <td>45.1</td>\n",
       "      <td>10.4</td>\n",
       "    </tr>\n",
       "    <tr>\n",
       "      <td>2</td>\n",
       "      <td>17.2</td>\n",
       "      <td>45.9</td>\n",
       "      <td>69.3</td>\n",
       "      <td>9.3</td>\n",
       "    </tr>\n",
       "    <tr>\n",
       "      <td>3</td>\n",
       "      <td>151.5</td>\n",
       "      <td>41.3</td>\n",
       "      <td>58.5</td>\n",
       "      <td>18.5</td>\n",
       "    </tr>\n",
       "    <tr>\n",
       "      <td>4</td>\n",
       "      <td>180.8</td>\n",
       "      <td>10.8</td>\n",
       "      <td>58.4</td>\n",
       "      <td>12.9</td>\n",
       "    </tr>\n",
       "  </tbody>\n",
       "</table>\n",
       "</div>"
      ],
      "text/plain": [
       "      TV  radio  newspaper  sales\n",
       "0  230.1   37.8       69.2   22.1\n",
       "1   44.5   39.3       45.1   10.4\n",
       "2   17.2   45.9       69.3    9.3\n",
       "3  151.5   41.3       58.5   18.5\n",
       "4  180.8   10.8       58.4   12.9"
      ]
     },
     "execution_count": 4,
     "metadata": {},
     "output_type": "execute_result"
    }
   ],
   "source": [
    "df.head()"
   ]
  },
  {
   "cell_type": "code",
   "execution_count": 5,
   "metadata": {},
   "outputs": [
    {
     "data": {
      "text/plain": [
       "(200, 4)"
      ]
     },
     "execution_count": 5,
     "metadata": {},
     "output_type": "execute_result"
    }
   ],
   "source": [
    "#checking shape\n",
    "df.shape"
   ]
  },
  {
   "cell_type": "code",
   "execution_count": 6,
   "metadata": {},
   "outputs": [
    {
     "data": {
      "text/plain": [
       "Index(['TV', 'radio', 'newspaper', 'sales'], dtype='object')"
      ]
     },
     "execution_count": 6,
     "metadata": {},
     "output_type": "execute_result"
    }
   ],
   "source": [
    "#column names\n",
    "df.columns"
   ]
  },
  {
   "cell_type": "code",
   "execution_count": 7,
   "metadata": {},
   "outputs": [
    {
     "data": {
      "text/plain": [
       "TV           float64\n",
       "radio        float64\n",
       "newspaper    float64\n",
       "sales        float64\n",
       "dtype: object"
      ]
     },
     "execution_count": 7,
     "metadata": {},
     "output_type": "execute_result"
    }
   ],
   "source": [
    "df.dtypes"
   ]
  },
  {
   "cell_type": "code",
   "execution_count": 8,
   "metadata": {},
   "outputs": [],
   "source": [
    "Features=['TV', 'radio', 'newspaper']"
   ]
  },
  {
   "cell_type": "code",
   "execution_count": 9,
   "metadata": {},
   "outputs": [],
   "source": [
    "Target=['sales']"
   ]
  },
  {
   "cell_type": "code",
   "execution_count": 10,
   "metadata": {},
   "outputs": [
    {
     "data": {
      "text/plain": [
       "TV           0\n",
       "radio        0\n",
       "newspaper    0\n",
       "sales        0\n",
       "dtype: int64"
      ]
     },
     "execution_count": 10,
     "metadata": {},
     "output_type": "execute_result"
    }
   ],
   "source": [
    "#checking null value\n",
    "df.isnull().sum()"
   ]
  },
  {
   "cell_type": "code",
   "execution_count": 11,
   "metadata": {},
   "outputs": [
    {
     "data": {
      "text/html": [
       "<div>\n",
       "<style scoped>\n",
       "    .dataframe tbody tr th:only-of-type {\n",
       "        vertical-align: middle;\n",
       "    }\n",
       "\n",
       "    .dataframe tbody tr th {\n",
       "        vertical-align: top;\n",
       "    }\n",
       "\n",
       "    .dataframe thead th {\n",
       "        text-align: right;\n",
       "    }\n",
       "</style>\n",
       "<table border=\"1\" class=\"dataframe\">\n",
       "  <thead>\n",
       "    <tr style=\"text-align: right;\">\n",
       "      <th></th>\n",
       "      <th>TV</th>\n",
       "      <th>radio</th>\n",
       "      <th>newspaper</th>\n",
       "      <th>sales</th>\n",
       "    </tr>\n",
       "  </thead>\n",
       "  <tbody>\n",
       "    <tr>\n",
       "      <td>count</td>\n",
       "      <td>200.000000</td>\n",
       "      <td>200.000000</td>\n",
       "      <td>200.000000</td>\n",
       "      <td>200.000000</td>\n",
       "    </tr>\n",
       "    <tr>\n",
       "      <td>mean</td>\n",
       "      <td>147.042500</td>\n",
       "      <td>23.264000</td>\n",
       "      <td>30.554000</td>\n",
       "      <td>14.022500</td>\n",
       "    </tr>\n",
       "    <tr>\n",
       "      <td>std</td>\n",
       "      <td>85.854236</td>\n",
       "      <td>14.846809</td>\n",
       "      <td>21.778621</td>\n",
       "      <td>5.217457</td>\n",
       "    </tr>\n",
       "    <tr>\n",
       "      <td>min</td>\n",
       "      <td>0.700000</td>\n",
       "      <td>0.000000</td>\n",
       "      <td>0.300000</td>\n",
       "      <td>1.600000</td>\n",
       "    </tr>\n",
       "    <tr>\n",
       "      <td>25%</td>\n",
       "      <td>74.375000</td>\n",
       "      <td>9.975000</td>\n",
       "      <td>12.750000</td>\n",
       "      <td>10.375000</td>\n",
       "    </tr>\n",
       "    <tr>\n",
       "      <td>50%</td>\n",
       "      <td>149.750000</td>\n",
       "      <td>22.900000</td>\n",
       "      <td>25.750000</td>\n",
       "      <td>12.900000</td>\n",
       "    </tr>\n",
       "    <tr>\n",
       "      <td>75%</td>\n",
       "      <td>218.825000</td>\n",
       "      <td>36.525000</td>\n",
       "      <td>45.100000</td>\n",
       "      <td>17.400000</td>\n",
       "    </tr>\n",
       "    <tr>\n",
       "      <td>max</td>\n",
       "      <td>296.400000</td>\n",
       "      <td>49.600000</td>\n",
       "      <td>114.000000</td>\n",
       "      <td>27.000000</td>\n",
       "    </tr>\n",
       "  </tbody>\n",
       "</table>\n",
       "</div>"
      ],
      "text/plain": [
       "               TV       radio   newspaper       sales\n",
       "count  200.000000  200.000000  200.000000  200.000000\n",
       "mean   147.042500   23.264000   30.554000   14.022500\n",
       "std     85.854236   14.846809   21.778621    5.217457\n",
       "min      0.700000    0.000000    0.300000    1.600000\n",
       "25%     74.375000    9.975000   12.750000   10.375000\n",
       "50%    149.750000   22.900000   25.750000   12.900000\n",
       "75%    218.825000   36.525000   45.100000   17.400000\n",
       "max    296.400000   49.600000  114.000000   27.000000"
      ]
     },
     "execution_count": 11,
     "metadata": {},
     "output_type": "execute_result"
    }
   ],
   "source": [
    "df.describe()"
   ]
  },
  {
   "cell_type": "code",
   "execution_count": 12,
   "metadata": {},
   "outputs": [
    {
     "data": {
      "text/plain": [
       "<matplotlib.axes._subplots.AxesSubplot at 0x16b6d0e4248>"
      ]
     },
     "execution_count": 12,
     "metadata": {},
     "output_type": "execute_result"
    },
    {
     "data": {
      "image/png": "[encoded data removed]",
      "text/plain": [
       "<Figure size 432x288 with 1 Axes>"
      ]
     },
     "metadata": {
      "needs_background": "light"
     },
     "output_type": "display_data"
    }
   ],
   "source": [
    "#univariate analysis\n",
    "sns.distplot(df['TV'],bins=10,rug=True)"
   ]
  },
  {
   "cell_type": "code",
   "execution_count": 13,
   "metadata": {},
   "outputs": [
    {
     "data": {
      "text/plain": [
       "<matplotlib.axes._subplots.AxesSubplot at 0x16b6d449988>"
      ]
     },
     "execution_count": 13,
     "metadata": {},
     "output_type": "execute_result"
    },
    {
     "data": {
      "image/png": "[encoded data removed]",
      "text/plain": [
       "<Figure size 432x288 with 1 Axes>"
      ]
     },
     "metadata": {
      "needs_background": "light"
     },
     "output_type": "display_data"
    }
   ],
   "source": [
    "sns.boxplot(y=df['TV'])"
   ]
  },
  {
   "cell_type": "code",
   "execution_count": 14,
   "metadata": {},
   "outputs": [
    {
     "data": {
      "text/plain": [
       "<matplotlib.axes._subplots.AxesSubplot at 0x16b6d4cfdc8>"
      ]
     },
     "execution_count": 14,
     "metadata": {},
     "output_type": "execute_result"
    },
    {
     "data": {
      "image/png": "[encoded data removed]",
      "text/plain": [
       "<Figure size 432x288 with 1 Axes>"
      ]
     },
     "metadata": {
      "needs_background": "light"
     },
     "output_type": "display_data"
    }
   ],
   "source": [
    "sns.distplot(df['radio'],bins=10,rug=True)"
   ]
  },
  {
   "cell_type": "code",
   "execution_count": 15,
   "metadata": {},
   "outputs": [
    {
     "data": {
      "text/plain": [
       "<matplotlib.axes._subplots.AxesSubplot at 0x16b6d4d4f08>"
      ]
     },
     "execution_count": 15,
     "metadata": {},
     "output_type": "execute_result"
    },
    {
     "data": {
      "image/png": "[encoded data removed]",
      "text/plain": [
       "<Figure size 432x288 with 1 Axes>"
      ]
     },
     "metadata": {
      "needs_background": "light"
     },
     "output_type": "display_data"
    }
   ],
   "source": [
    "sns.boxplot(y=df['radio'])"
   ]
  },
  {
   "cell_type": "code",
   "execution_count": 16,
   "metadata": {},
   "outputs": [
    {
     "data": {
      "text/plain": [
       "<matplotlib.axes._subplots.AxesSubplot at 0x16b6d5ebf48>"
      ]
     },
     "execution_count": 16,
     "metadata": {},
     "output_type": "execute_result"
    },
    {
     "data": {
      "image/png": "[encoded data removed]",
      "text/plain": [
       "<Figure size 432x288 with 1 Axes>"
      ]
     },
     "metadata": {
      "needs_background": "light"
     },
     "output_type": "display_data"
    }
   ],
   "source": [
    "sns.distplot(df['newspaper'],bins=10,rug=True)"
   ]
  },
  {
   "cell_type": "code",
   "execution_count": 17,
   "metadata": {},
   "outputs": [
    {
     "data": {
      "text/plain": [
       "<matplotlib.axes._subplots.AxesSubplot at 0x16b6d69f9c8>"
      ]
     },
     "execution_count": 17,
     "metadata": {},
     "output_type": "execute_result"
    },
    {
     "data": {
      "image/png": "[encoded data removed]",
      "text/plain": [
       "<Figure size 432x288 with 1 Axes>"
      ]
     },
     "metadata": {
      "needs_background": "light"
     },
     "output_type": "display_data"
    }
   ],
   "source": [
    "sns.boxplot(y=df['newspaper'])"
   ]
  },
  {
   "cell_type": "code",
   "execution_count": 18,
   "metadata": {},
   "outputs": [
    {
     "data": {
      "text/plain": [
       "<seaborn.axisgrid.PairGrid at 0x16b6d6f7508>"
      ]
     },
     "execution_count": 18,
     "metadata": {},
     "output_type": "execute_result"
    },
    {
     "data": {
      "image/png": "[encoded data removed]",
      "text/plain": [
       "<Figure size 720x720 with 20 Axes>"
      ]
     },
     "metadata": {
      "needs_background": "light"
     },
     "output_type": "display_data"
    }
   ],
   "source": [
    "#bivariate analysis\n",
    "sns.pairplot(df)"
   ]
  },
  {
   "cell_type": "code",
   "execution_count": 19,
   "metadata": {},
   "outputs": [
    {
     "data": {
      "text/plain": [
       "<seaborn.axisgrid.PairGrid at 0x16b6dfdfd48>"
      ]
     },
     "execution_count": 19,
     "metadata": {},
     "output_type": "execute_result"
    },
    {
     "data": {
      "image/png": "[encoded data removed]",
      "text/plain": [
       "<Figure size 540x180 with 3 Axes>"
      ]
     },
     "metadata": {
      "needs_background": "light"
     },
     "output_type": "display_data"
    }
   ],
   "source": [
    "sns.pairplot(data=df, x_vars=['TV', 'radio', 'newspaper'],y_vars='sales',size=2.5, aspect=1, kind='reg')"
   ]
  },
  {
   "cell_type": "code",
   "execution_count": 20,
   "metadata": {},
   "outputs": [
    {
     "data": {
      "text/html": [
       "<div>\n",
       "<style scoped>\n",
       "    .dataframe tbody tr th:only-of-type {\n",
       "        vertical-align: middle;\n",
       "    }\n",
       "\n",
       "    .dataframe tbody tr th {\n",
       "        vertical-align: top;\n",
       "    }\n",
       "\n",
       "    .dataframe thead th {\n",
       "        text-align: right;\n",
       "    }\n",
       "</style>\n",
       "<table border=\"1\" class=\"dataframe\">\n",
       "  <thead>\n",
       "    <tr style=\"text-align: right;\">\n",
       "      <th></th>\n",
       "      <th>TV</th>\n",
       "      <th>radio</th>\n",
       "      <th>newspaper</th>\n",
       "      <th>sales</th>\n",
       "    </tr>\n",
       "  </thead>\n",
       "  <tbody>\n",
       "    <tr>\n",
       "      <td>TV</td>\n",
       "      <td>1.000000</td>\n",
       "      <td>0.054809</td>\n",
       "      <td>0.056648</td>\n",
       "      <td>0.782224</td>\n",
       "    </tr>\n",
       "    <tr>\n",
       "      <td>radio</td>\n",
       "      <td>0.054809</td>\n",
       "      <td>1.000000</td>\n",
       "      <td>0.354104</td>\n",
       "      <td>0.576223</td>\n",
       "    </tr>\n",
       "    <tr>\n",
       "      <td>newspaper</td>\n",
       "      <td>0.056648</td>\n",
       "      <td>0.354104</td>\n",
       "      <td>1.000000</td>\n",
       "      <td>0.228299</td>\n",
       "    </tr>\n",
       "    <tr>\n",
       "      <td>sales</td>\n",
       "      <td>0.782224</td>\n",
       "      <td>0.576223</td>\n",
       "      <td>0.228299</td>\n",
       "      <td>1.000000</td>\n",
       "    </tr>\n",
       "  </tbody>\n",
       "</table>\n",
       "</div>"
      ],
      "text/plain": [
       "                 TV     radio  newspaper     sales\n",
       "TV         1.000000  0.054809   0.056648  0.782224\n",
       "radio      0.054809  1.000000   0.354104  0.576223\n",
       "newspaper  0.056648  0.354104   1.000000  0.228299\n",
       "sales      0.782224  0.576223   0.228299  1.000000"
      ]
     },
     "execution_count": 20,
     "metadata": {},
     "output_type": "execute_result"
    }
   ],
   "source": [
    "df.corr()"
   ]
  },
  {
   "cell_type": "code",
   "execution_count": 21,
   "metadata": {},
   "outputs": [
    {
     "data": {
      "text/plain": [
       "<matplotlib.axes._subplots.AxesSubplot at 0x16b6e384fc8>"
      ]
     },
     "execution_count": 21,
     "metadata": {},
     "output_type": "execute_result"
    },
    {
     "data": {
      "image/png": "[encoded data removed]",
      "text/plain": [
       "<Figure size 432x288 with 2 Axes>"
      ]
     },
     "metadata": {
      "needs_background": "light"
     },
     "output_type": "display_data"
    }
   ],
   "source": [
    "sns.heatmap(df.corr())"
   ]
  },
  {
   "cell_type": "code",
   "execution_count": 22,
   "metadata": {},
   "outputs": [],
   "source": [
    "df1=df"
   ]
  },
  {
   "cell_type": "code",
   "execution_count": 23,
   "metadata": {},
   "outputs": [
    {
     "data": {
      "text/html": [
       "<div>\n",
       "<style scoped>\n",
       "    .dataframe tbody tr th:only-of-type {\n",
       "        vertical-align: middle;\n",
       "    }\n",
       "\n",
       "    .dataframe tbody tr th {\n",
       "        vertical-align: top;\n",
       "    }\n",
       "\n",
       "    .dataframe thead th {\n",
       "        text-align: right;\n",
       "    }\n",
       "</style>\n",
       "<table border=\"1\" class=\"dataframe\">\n",
       "  <thead>\n",
       "    <tr style=\"text-align: right;\">\n",
       "      <th></th>\n",
       "      <th>TV</th>\n",
       "      <th>radio</th>\n",
       "      <th>newspaper</th>\n",
       "      <th>sales</th>\n",
       "    </tr>\n",
       "  </thead>\n",
       "  <tbody>\n",
       "    <tr>\n",
       "      <td>0</td>\n",
       "      <td>230.1</td>\n",
       "      <td>37.8</td>\n",
       "      <td>69.2</td>\n",
       "      <td>22.1</td>\n",
       "    </tr>\n",
       "    <tr>\n",
       "      <td>1</td>\n",
       "      <td>44.5</td>\n",
       "      <td>39.3</td>\n",
       "      <td>45.1</td>\n",
       "      <td>10.4</td>\n",
       "    </tr>\n",
       "    <tr>\n",
       "      <td>2</td>\n",
       "      <td>17.2</td>\n",
       "      <td>45.9</td>\n",
       "      <td>69.3</td>\n",
       "      <td>9.3</td>\n",
       "    </tr>\n",
       "    <tr>\n",
       "      <td>3</td>\n",
       "      <td>151.5</td>\n",
       "      <td>41.3</td>\n",
       "      <td>58.5</td>\n",
       "      <td>18.5</td>\n",
       "    </tr>\n",
       "    <tr>\n",
       "      <td>4</td>\n",
       "      <td>180.8</td>\n",
       "      <td>10.8</td>\n",
       "      <td>58.4</td>\n",
       "      <td>12.9</td>\n",
       "    </tr>\n",
       "  </tbody>\n",
       "</table>\n",
       "</div>"
      ],
      "text/plain": [
       "      TV  radio  newspaper  sales\n",
       "0  230.1   37.8       69.2   22.1\n",
       "1   44.5   39.3       45.1   10.4\n",
       "2   17.2   45.9       69.3    9.3\n",
       "3  151.5   41.3       58.5   18.5\n",
       "4  180.8   10.8       58.4   12.9"
      ]
     },
     "execution_count": 23,
     "metadata": {},
     "output_type": "execute_result"
    }
   ],
   "source": [
    "df1.head()"
   ]
  },
  {
   "cell_type": "code",
   "execution_count": 24,
   "metadata": {},
   "outputs": [
    {
     "data": {
      "text/plain": [
       "TV          -0.069853\n",
       "radio        0.094175\n",
       "newspaper    0.894720\n",
       "sales        0.407571\n",
       "dtype: float64"
      ]
     },
     "execution_count": 24,
     "metadata": {},
     "output_type": "execute_result"
    }
   ],
   "source": [
    "df1.skew()"
   ]
  },
  {
   "cell_type": "code",
   "execution_count": 25,
   "metadata": {},
   "outputs": [],
   "source": [
    "for x in df1.columns:\n",
    "    if df1.skew().loc[x]>0.55:\n",
    "        df1[x]=np.log1p(df1[x])"
   ]
  },
  {
   "cell_type": "code",
   "execution_count": 26,
   "metadata": {},
   "outputs": [
    {
     "data": {
      "text/plain": [
       "TV          -0.069853\n",
       "radio        0.094175\n",
       "newspaper   -0.799875\n",
       "sales        0.407571\n",
       "dtype: float64"
      ]
     },
     "execution_count": 26,
     "metadata": {},
     "output_type": "execute_result"
    }
   ],
   "source": [
    "df1.skew()"
   ]
  },
  {
   "cell_type": "code",
   "execution_count": 27,
   "metadata": {},
   "outputs": [],
   "source": [
    "from scipy.stats import zscore"
   ]
  },
  {
   "cell_type": "code",
   "execution_count": 28,
   "metadata": {},
   "outputs": [
    {
     "data": {
      "text/plain": [
       "(200, 4)"
      ]
     },
     "execution_count": 28,
     "metadata": {},
     "output_type": "execute_result"
    }
   ],
   "source": [
    "z_score=abs(zscore(df1))\n",
    "df1.shape"
   ]
  },
  {
   "cell_type": "code",
   "execution_count": 29,
   "metadata": {},
   "outputs": [],
   "source": [
    "df1_final=df1.loc[(z_score<3).all(axis=1)]"
   ]
  },
  {
   "cell_type": "code",
   "execution_count": 30,
   "metadata": {},
   "outputs": [
    {
     "data": {
      "text/plain": [
       "(199, 4)"
      ]
     },
     "execution_count": 30,
     "metadata": {},
     "output_type": "execute_result"
    }
   ],
   "source": [
    "df1_final.shape"
   ]
  },
  {
   "cell_type": "code",
   "execution_count": 31,
   "metadata": {},
   "outputs": [
    {
     "data": {
      "text/plain": [
       "<matplotlib.axes._subplots.AxesSubplot at 0x16b6e322ec8>"
      ]
     },
     "execution_count": 31,
     "metadata": {},
     "output_type": "execute_result"
    },
    {
     "data": {
      "image/png": "[encoded data removed]",
      "text/plain": [
       "<Figure size 432x288 with 1 Axes>"
      ]
     },
     "metadata": {
      "needs_background": "light"
     },
     "output_type": "display_data"
    }
   ],
   "source": [
    "sns.boxplot(y=df1_final['newspaper'])"
   ]
  },
  {
   "cell_type": "code",
   "execution_count": 32,
   "metadata": {},
   "outputs": [
    {
     "data": {
      "text/plain": [
       "TV          -0.063150\n",
       "radio        0.090691\n",
       "newspaper   -0.717354\n",
       "sales        0.416327\n",
       "dtype: float64"
      ]
     },
     "execution_count": 32,
     "metadata": {},
     "output_type": "execute_result"
    }
   ],
   "source": [
    "df1_final.skew()"
   ]
  },
  {
   "cell_type": "code",
   "execution_count": 33,
   "metadata": {},
   "outputs": [],
   "source": [
    "X=df1_final.drop(columns='sales',axis=1)\n",
    "y=df1_final['sales']"
   ]
  },
  {
   "cell_type": "code",
   "execution_count": 34,
   "metadata": {},
   "outputs": [],
   "source": [
    "from sklearn.preprocessing import MinMaxScaler,StandardScaler\n"
   ]
  },
  {
   "cell_type": "code",
   "execution_count": 35,
   "metadata": {},
   "outputs": [],
   "source": [
    "MN=MinMaxScaler()\n",
    "Sc=StandardScaler()"
   ]
  },
  {
   "cell_type": "code",
   "execution_count": 36,
   "metadata": {},
   "outputs": [
    {
     "data": {
      "text/plain": [
       "array([[0.77578627, 0.76209677, 0.87970402],\n",
       "       [0.1481231 , 0.79233871, 0.77721137],\n",
       "       [0.0557998 , 0.92540323, 0.88005095],\n",
       "       [0.50997633, 0.83266129, 0.83939965],\n",
       "       [0.60906324, 0.21774194, 0.83898969],\n",
       "       [0.02705445, 0.9858871 , 0.8990517 ],\n",
       "       [0.19208657, 0.66129032, 0.62314659],\n",
       "       [0.4041258 , 0.39516129, 0.46107893],\n",
       "       [0.02671627, 0.04233871, 0.01250117],\n",
       "       [0.67331755, 0.05241935, 0.59912053],\n",
       "       [0.2211701 , 0.11693548, 0.63001238],\n",
       "       [0.72370646, 0.48387097, 0.23581905],\n",
       "       [0.07811972, 0.70766129, 0.86796909],\n",
       "       [0.32735881, 0.15322581, 0.35638615],\n",
       "       [0.68785932, 0.66330645, 0.7819236 ],\n",
       "       [0.65843761, 0.96169355, 0.81530899],\n",
       "       [0.22691917, 0.73790323, 1.        ],\n",
       "       [0.94927291, 0.7983871 , 0.82808132],\n",
       "       [0.2316537 , 0.41330645, 0.56500293],\n",
       "       [0.49577274, 0.48185484, 0.57490152],\n",
       "       [0.73621914, 0.55846774, 0.81755942],\n",
       "       [0.80047345, 0.10282258, 0.62314659],\n",
       "       [0.04227257, 0.32056452, 0.79991107],\n",
       "       [0.76969902, 0.34072581, 0.64862597],\n",
       "       [0.20831924, 0.25403226, 0.56500293],\n",
       "       [0.8867095 , 0.07056452, 0.57970403],\n",
       "       [0.4808928 , 0.59072581, 0.47969251],\n",
       "       [0.80960433, 0.33669355, 0.61710365],\n",
       "       [0.83902604, 0.54637097, 0.61710365],\n",
       "       [0.23638823, 0.32258065, 0.75334719],\n",
       "       [0.98816368, 0.57056452, 0.76695367],\n",
       "       [0.37943862, 0.35080645, 0.74016995],\n",
       "       [0.32634427, 0.03024194, 0.68049722],\n",
       "       [0.32127156, 0.02822581, 0.36225919],\n",
       "       [0.98072371, 0.08266129, 0.39225133],\n",
       "       [0.90023673, 0.88306452, 0.28025436],\n",
       "       [0.25025364, 0.99596774, 0.78036296],\n",
       "       [0.14338857, 0.53830645, 0.71761707],\n",
       "       [0.76868448, 0.76008065, 0.69573464],\n",
       "       [0.68244843, 0.44959677, 0.69276242],\n",
       "       [0.59621238, 0.6733871 , 0.74078463],\n",
       "       [0.99053094, 0.55846774, 0.094506  ],\n",
       "       [0.69732837, 0.16935484, 0.65041146],\n",
       "       [0.08251606, 0.51814516, 0.76750445],\n",
       "       [0.58978695, 0.45362903, 0.69201366],\n",
       "       [0.30098072, 0.19959677, 0.72163451],\n",
       "       [0.80892797, 0.83669355, 0.56751552],\n",
       "       [0.76597903, 0.31854839, 0.80135178],\n",
       "       [0.22387555, 0.2358871 , 0.72883212],\n",
       "       [0.67331755, 0.0625    , 0.71421786],\n",
       "       [0.33716605, 0.19354839, 0.21549733],\n",
       "       [0.72945553, 0.84072581, 0.74624806],\n",
       "       [0.61515049, 0.93145161, 0.8402175 ],\n",
       "       [0.88603314, 0.58064516, 0.53263906],\n",
       "       [0.67027393, 0.99596774, 0.84546766],\n",
       "       [0.02231992, 0.56653226, 0.75682068],\n",
       "       [0.4582347 , 0.38709677, 0.54253048],\n",
       "       [0.71051742, 1.        , 0.73456696],\n",
       "       [0.71017924, 0.59475806, 0.41195656],\n",
       "       [0.17855935, 0.04032258, 0.60130637],\n",
       "       [0.88129861, 0.8608871 , 0.8233151 ],\n",
       "       [0.80689888, 0.3125    , 0.65828818],\n",
       "       [0.3449442 , 0.59677419, 0.38967227],\n",
       "       [0.44098749, 0.86290323, 0.67169194],\n",
       "       [0.23097734, 0.1875    , 0.        ],\n",
       "       [0.10415962, 0.49596774, 0.1270502 ],\n",
       "       [0.4687183 , 0.29233871, 0.43237291],\n",
       "       [0.80047345, 0.55443548, 0.44918782],\n",
       "       [0.73080825, 0.88508065, 0.65742546],\n",
       "       [0.67095029, 0.61693548, 0.74078463],\n",
       "       [0.36895502, 0.28830645, 0.69350888],\n",
       "       [0.08826513, 0.66532258, 0.57731461],\n",
       "       [0.43523842, 0.11491935, 0.69050922],\n",
       "       [0.71931011, 0.49596774, 0.488492  ],\n",
       "       [0.05478526, 0.88104839, 0.94133969],\n",
       "       [0.0906324 , 0.03225806, 0.59356859],\n",
       "       [0.40514034, 0.57459677, 0.50680036],\n",
       "       [0.01589449, 0.60282258, 0.41431136],\n",
       "       [0.38992222, 0.15524194, 0.61913466],\n",
       "       [0.25600271, 0.53830645, 0.61090706],\n",
       "       [0.80858979, 0.08266129, 0.72947603],\n",
       "       [0.25228272, 0.40927419, 0.69939967],\n",
       "       [0.22894826, 0.89717742, 0.72096952],\n",
       "       [0.71964829, 0.86693548, 0.70867854],\n",
       "       [0.65099763, 0.37096774, 0.86723939],\n",
       "       [0.25566452, 0.55443548, 0.53407694],\n",
       "       [0.37199865, 0.81854839, 0.85792888],\n",
       "       [0.2962462 , 0.5141129 , 0.89386598],\n",
       "       [0.36895502, 0.96370968, 0.80843028],\n",
       "       [0.45180927, 0.09879032, 0.41195656],\n",
       "       [0.09435238, 0.03024194, 0.70301039],\n",
       "       [0.73385188, 0.67540323, 0.84143915],\n",
       "       [0.84612783, 0.7358871 , 0.8902357 ],\n",
       "       [0.36083869, 0.28225806, 0.44714831],\n",
       "       [0.54988164, 0.63709677, 0.81530899],\n",
       "       [0.66587758, 0.07056452, 0.31431707],\n",
       "       [0.62292864, 0.4233871 , 0.60774867],\n",
       "       [0.9773419 , 0.85282258, 0.80749828],\n",
       "       [0.45485289, 0.84072581, 0.7814045 ],\n",
       "       [0.74974636, 0.08669355, 0.80087249],\n",
       "       [1.        , 0.73185484, 0.97052452],\n",
       "       [0.94521474, 0.20362903, 0.60130637],\n",
       "       [0.63307406, 0.34677419, 0.55989867],\n",
       "       [0.8031789 , 0.69153226, 0.29214548],\n",
       "       [0.46398377, 0.93548387, 0.84143915],\n",
       "       [0.08217788, 0.22177419, 0.67812715],\n",
       "       [0.30334799, 0.00604839, 0.62014385],\n",
       "       [0.04193439, 0.00806452, 0.64318962],\n",
       "       [0.86134596, 0.54233871, 0.29976233],\n",
       "       [0.7612445 , 0.16532258, 0.83106655],\n",
       "       [0.81501522, 0.76612903, 0.62014385],\n",
       "       [0.59181603, 0.31048387, 0.1418256 ],\n",
       "       [0.70645925, 0.41532258, 0.44301738],\n",
       "       [0.26208996, 0.94354839, 0.71353229],\n",
       "       [0.25160636, 0.70564516, 0.81440297],\n",
       "       [0.46838011, 0.28830645, 0.64318962],\n",
       "       [0.25600271, 0.01612903, 0.51623584],\n",
       "       [0.42272574, 0.74395161, 0.91216141],\n",
       "       [0.06323977, 0.32258065, 0.61090706],\n",
       "       [0.47548191, 0.54032258, 0.78295851],\n",
       "       [0.06121069, 0.4375    , 0.80373419],\n",
       "       [0.75515725, 0.0483871 , 0.52827382],\n",
       "       [0.41393304, 0.69758065, 0.47608179],\n",
       "       [0.77375719, 0.65120968, 0.89647263],\n",
       "       [0.29252621, 0.23790323, 0.64592295],\n",
       "       [0.02401082, 0.78427419, 0.80468068],\n",
       "       [0.26885357, 0.        , 0.40957879],\n",
       "       [0.74264457, 0.98790323, 0.19332574],\n",
       "       [0.19918837, 0.24193548, 0.76640164],\n",
       "       [0.        , 0.7983871 , 0.39732901],\n",
       "       [0.89448766, 0.05846774, 0.76584836],\n",
       "       [0.02603991, 0.5483871 , 0.11931243],\n",
       "       [0.74095367, 0.67540323, 0.77721137],\n",
       "       [0.12242137, 0.77822581, 0.86687372],\n",
       "       [0.16097396, 0.94758065, 0.39225133],\n",
       "       [0.08420697, 0.78629032, 0.41195656],\n",
       "       [0.92323301, 0.58266129, 0.84426609],\n",
       "       [0.14305039, 0.52217742, 0.59131191],\n",
       "       [0.62292864, 0.88508065, 0.0856425 ],\n",
       "       [0.24585729, 0.34274194, 0.48501024],\n",
       "       [0.65268854, 0.71370968, 0.90096824],\n",
       "       [0.74332093, 0.66935484, 0.73582325],\n",
       "       [0.35136963, 0.11491935, 0.71284479],\n",
       "       [0.32296246, 0.2983871 , 0.74200935],\n",
       "       [0.4721001 , 0.03830645, 0.40475251],\n",
       "       [0.80960433, 0.14717742, 0.39732901],\n",
       "       [0.82008793, 0.98790323, 0.77294484],\n",
       "       [0.12614136, 0.8125    , 0.46681377],\n",
       "       [0.14879946, 0.52016129, 0.59244286],\n",
       "       [0.94690565, 0.28024194, 0.73011824],\n",
       "       [0.40683125, 0.16935484, 0.79553712],\n",
       "       [0.66587758, 0.46975806, 0.50680036],\n",
       "       [0.57693608, 0.80040323, 0.73456696],\n",
       "       [0.63273588, 0.42540323, 0.41664362],\n",
       "       [0.01149814, 0.23387097, 0.30714833],\n",
       "       [0.31518431, 0.87701613, 0.8042079 ],\n",
       "       [0.50422726, 0.02620968, 0.63097761],\n",
       "       [0.03719986, 0.74395161, 0.77773947],\n",
       "       [0.44301657, 0.37096774, 0.71421786],\n",
       "       [0.58099425, 0.36491935, 0.68593934],\n",
       "       [0.2874535 , 0.72177419, 0.79846179],\n",
       "       [0.63476496, 0.36491935, 0.64318962],\n",
       "       [0.550558  , 0.74193548, 0.36225919],\n",
       "       [0.39398039, 0.29637097, 0.29598366],\n",
       "       [0.79066622, 0.06854839, 0.92861137],\n",
       "       [0.05816706, 0.75806452, 0.60347278],\n",
       "       [0.69699019, 0.10483871, 0.57851225],\n",
       "       [0.72607372, 0.47580645, 0.83568497],\n",
       "       [0.95908015, 0.21370968, 0.33136734],\n",
       "       [0.16672303, 0.23387097, 0.56626246],\n",
       "       [0.5539398 , 0.42137097, 0.78907731],\n",
       "       [0.06391613, 0.40524194, 0.54800755],\n",
       "       [0.56712885, 0.14314516, 0.48325052],\n",
       "       [0.74974636, 0.06854839, 0.488492  ],\n",
       "       [0.93405479, 0.9858871 , 0.75910915],\n",
       "       [0.83767332, 0.60887097, 0.58903415],\n",
       "       [0.5732161 , 0.15725806, 0.71829126],\n",
       "       [0.93337842, 0.04637097, 0.62512806],\n",
       "       [0.55765979, 0.2016129 , 0.55599907],\n",
       "       [0.52722354, 0.05241935, 0.38706562],\n",
       "       [0.73655732, 0.10887097, 0.65914786],\n",
       "       [0.18769023, 0.11491935, 0.67812715],\n",
       "       [0.97024011, 0.86693548, 0.88856752],\n",
       "       [0.85593507, 0.42943548, 0.68049722],\n",
       "       [0.69090294, 0.90927419, 0.58089002],\n",
       "       [0.46939466, 0.04233871, 0.65218398],\n",
       "       [0.64389584, 0.57862903, 0.56373685],\n",
       "       [0.96482922, 0.28024194, 0.22073881],\n",
       "       [0.06087251, 0.24395161, 0.62214978],\n",
       "       [0.13121407, 0.82862903, 0.31075906],\n",
       "       [0.25295908, 0.21774194, 0.31782388],\n",
       "       [0.0557998 , 0.08266129, 0.69276242],\n",
       "       [0.56171796, 0.84677419, 0.21549733],\n",
       "       [0.50388908, 0.71774194, 0.31782388],\n",
       "       [0.12681772, 0.07459677, 0.50030079],\n",
       "       [0.31619885, 0.09879032, 0.38176716],\n",
       "       [0.59621238, 0.1875    , 0.33136734],\n",
       "       [0.95671288, 0.84677419, 0.86905956],\n",
       "       [0.78254988, 0.1733871 , 0.39732901]])"
      ]
     },
     "execution_count": 36,
     "metadata": {},
     "output_type": "execute_result"
    }
   ],
   "source": [
    "X_scaled=MN.fit_transform(X)\n",
    "X_scaled"
   ]
  },
  {
   "cell_type": "code",
   "execution_count": 37,
   "metadata": {},
   "outputs": [
    {
     "data": {
      "text/plain": [
       "0   -0.063150\n",
       "1    0.090691\n",
       "2   -0.717354\n",
       "dtype: float64"
      ]
     },
     "execution_count": 37,
     "metadata": {},
     "output_type": "execute_result"
    }
   ],
   "source": [
    "(pd.DataFrame(X_scaled)).skew()"
   ]
  },
  {
   "cell_type": "code",
   "execution_count": 38,
   "metadata": {},
   "outputs": [
    {
     "data": {
      "text/plain": [
       "array([[ 9.79089948e-01,  9.78080220e-01,  1.28730630e+00],\n",
       "       [-1.19319934e+00,  1.07912436e+00,  7.87741098e-01],\n",
       "       [-1.51272249e+00,  1.52371859e+00,  1.28899730e+00],\n",
       "       [ 5.91441612e-02,  1.21384989e+00,  1.09085648e+00],\n",
       "       [ 4.02075606e-01, -8.40714347e-01,  1.08885829e+00],\n",
       "       [-1.61220773e+00,  1.72580688e+00,  1.38160990e+00],\n",
       "       [-1.04104546e+00,  6.41266412e-01,  3.68052853e-02],\n",
       "       [-3.07195573e-01, -2.47922044e-01, -7.53137850e-01],\n",
       "       [-1.61337814e+00, -1.42677037e+00, -2.93957598e+00],\n",
       "       [ 6.24454358e-01, -1.39308899e+00, -8.03015175e-02],\n",
       "       [-9.40389811e-01, -1.17752816e+00,  7.02702235e-02],\n",
       "       [ 7.98846117e-01,  4.84741080e-02, -1.85108972e+00],\n",
       "       [-1.43547514e+00,  7.96200764e-01,  1.23010841e+00],\n",
       "       [-5.72879662e-01, -1.05627519e+00, -1.26342682e+00],\n",
       "       [ 6.74782181e-01,  6.48002688e-01,  8.10709248e-01],\n",
       "       [ 5.72956121e-01,  1.64497156e+00,  9.73434870e-01],\n",
       "       [-9.20492764e-01,  8.97244906e-01,  1.87364772e+00],\n",
       "       [ 1.57951258e+00,  1.09933319e+00,  1.03568918e+00],\n",
       "       [-9.04106962e-01, -1.87295558e-01, -2.46596048e-01],\n",
       "       [ 9.98675276e-03,  4.17378318e-02, -1.98348737e-01],\n",
       "       [ 8.42151453e-01,  2.97716327e-01,  9.84403801e-01],\n",
       "       [ 1.06453021e+00, -1.22468209e+00,  3.68052853e-02],\n",
       "       [-1.55953907e+00, -4.97164262e-01,  8.98382963e-01],\n",
       "       [ 9.58022487e-01, -4.29801501e-01,  1.60995728e-01],\n",
       "       [-9.84865561e-01, -7.19461376e-01, -2.46596048e-01],\n",
       "       [ 1.36298590e+00, -1.33246251e+00, -1.74940556e-01],\n",
       "       [-4.15114847e-02,  4.05496745e-01, -6.62412346e-01],\n",
       "       [ 1.09613140e+00, -4.43274053e-01,  7.35104725e-03],\n",
       "       [ 1.19795746e+00,  2.57298669e-01,  7.35104725e-03],\n",
       "       [-8.87721159e-01, -4.90427986e-01,  6.71423338e-01],\n",
       "       [ 1.71411025e+00,  3.38133984e-01,  7.37743446e-01],\n",
       "       [-3.92635831e-01, -3.96120120e-01,  6.07195440e-01],\n",
       "       [-5.76390905e-01, -1.46718803e+00,  3.16341182e-01],\n",
       "       [-5.93947123e-01, -1.47392431e+00, -1.23480070e+00],\n",
       "       [ 1.68836113e+00, -1.29204485e+00, -1.08861432e+00],\n",
       "       [ 1.40980248e+00,  1.38225679e+00, -1.63450506e+00],\n",
       "       [-8.39734165e-01,  1.75948826e+00,  8.03102434e-01],\n",
       "       [-1.20958514e+00,  2.30353565e-01,  4.97269150e-01],\n",
       "       [ 9.54511244e-01,  9.71343944e-01,  3.90610787e-01],\n",
       "       [ 6.56055550e-01, -6.60425870e-02,  3.76123696e-01],\n",
       "       [ 3.57599855e-01,  6.81684069e-01,  6.10191474e-01],\n",
       "       [ 1.72230315e+00,  2.97716327e-01, -2.53987161e+00],\n",
       "       [ 7.07553787e-01, -1.00238498e+00,  1.69698526e-01],\n",
       "       [-1.42025975e+00,  1.62990803e-01,  7.40428028e-01],\n",
       "       [ 3.35361980e-01, -5.25700347e-02,  3.72474148e-01],\n",
       "       [-6.64171992e-01, -9.01340833e-01,  5.16850804e-01],\n",
       "       [ 1.09379057e+00,  1.22732244e+00, -2.34349272e-01],\n",
       "       [ 9.45147928e-01, -5.03900539e-01,  9.05405211e-01],\n",
       "       [-9.31026495e-01, -7.80087862e-01,  5.51933069e-01],\n",
       "       [ 6.24454358e-01, -1.35940761e+00,  4.80700866e-01],\n",
       "       [-5.38937642e-01, -9.21549662e-01, -1.95014096e+00],\n",
       "       [ 8.18743163e-01,  1.24079499e+00,  6.36821084e-01],\n",
       "       [ 4.23143067e-01,  1.54392742e+00,  1.09484282e+00],\n",
       "       [ 1.36064507e+00,  3.71815364e-01, -4.04342591e-01],\n",
       "       [ 6.13920628e-01,  1.75948826e+00,  1.12043295e+00],\n",
       "       [-1.62859353e+00,  3.24661431e-01,  6.88353697e-01],\n",
       "       [-1.19929255e-01, -2.74867149e-01, -3.56130252e-01],\n",
       "       [ 7.53199952e-01,  1.77296081e+00,  5.79885576e-01],\n",
       "       [ 7.52029538e-01,  4.18969298e-01, -9.92567952e-01],\n",
       "       [-1.08786204e+00, -1.43350665e+00, -6.96473946e-02],\n",
       "       [ 1.34425927e+00,  1.30815775e+00,  1.01245787e+00],\n",
       "       [ 1.08676808e+00, -5.24109367e-01,  2.08090883e-01],\n",
       "       [-5.12018108e-01,  4.25705574e-01, -1.10118509e+00],\n",
       "       [-1.79620394e-01,  1.31489403e+00,  2.73422905e-01],\n",
       "       [-9.06447791e-01, -9.41758490e-01, -3.00050866e+00],\n",
       "       [-1.34535322e+00,  8.88917650e-02, -2.38124610e+00],\n",
       "       [-8.36464062e-02, -5.91472129e-01, -8.93055468e-01],\n",
       "       [ 1.06453021e+00,  2.84243774e-01, -8.11096991e-01],\n",
       "       [ 8.23424821e-01,  1.38899307e+00,  2.03885828e-01],\n",
       "       [ 6.16261457e-01,  4.93068336e-01,  6.10191474e-01],\n",
       "       [-4.28918680e-01, -6.04944681e-01,  3.79762065e-01],\n",
       "       [-1.40036270e+00,  6.54738964e-01, -1.86586990e-01],\n",
       "       [-1.99517440e-01, -1.18426443e+00,  3.65141244e-01],\n",
       "       [ 7.83630729e-01,  8.88917650e-02, -6.19522245e-01],\n",
       "       [-1.51623374e+00,  1.37552051e+00,  1.58772817e+00],\n",
       "       [-1.39216980e+00, -1.46045176e+00, -1.07362522e-01],\n",
       "       [-3.03684330e-01,  3.51606536e-01, -5.30284439e-01],\n",
       "       [-1.65083140e+00,  4.45914402e-01, -9.81090310e-01],\n",
       "       [-3.56352982e-01, -1.04953891e+00,  1.72504941e-02],\n",
       "       [-8.19837119e-01,  2.30353565e-01, -2.28521071e-02],\n",
       "       [ 1.09262015e+00, -1.29204485e+00,  5.55071583e-01],\n",
       "       [-8.32711678e-01, -2.00768111e-01,  4.08474683e-01],\n",
       "       [-9.13470278e-01,  1.42941072e+00,  5.13609528e-01],\n",
       "       [ 7.84801143e-01,  1.32836658e+00,  4.53701368e-01],\n",
       "       [ 5.47207002e-01, -3.28757358e-01,  1.22655174e+00],\n",
       "       [-8.21007533e-01,  2.84243774e-01, -3.97334154e-01],\n",
       "       [-4.18384950e-01,  1.16669595e+00,  1.18117087e+00],\n",
       "       [-6.80557795e-01,  1.49518251e-01,  1.35633391e+00],\n",
       "       [-4.28918680e-01,  1.65170784e+00,  9.39906961e-01],\n",
       "       [-1.42167131e-01, -1.23815464e+00, -9.92567952e-01],\n",
       "       [-1.37929524e+00, -1.46718803e+00,  4.26073920e-01],\n",
       "       [ 8.33958552e-01,  6.88420345e-01,  1.10079735e+00],\n",
       "       [ 1.22253616e+00,  8.90508630e-01,  1.33863934e+00],\n",
       "       [-4.57008628e-01, -6.25153510e-01, -8.21037858e-01],\n",
       "       [ 1.97253071e-01,  5.60431097e-01,  9.73434870e-01],\n",
       "       [ 5.98705240e-01, -1.33246251e+00, -1.46847812e+00],\n",
       "       [ 4.50062600e-01, -1.53614177e-01, -3.82466216e-02],\n",
       "       [ 1.67665698e+00,  1.28121265e+00,  9.35364214e-01],\n",
       "       [-1.31633400e-01,  1.24079499e+00,  8.08179052e-01],\n",
       "       [ 8.88968033e-01, -1.27857230e+00,  9.03069071e-01],\n",
       "       [ 1.75507475e+00,  8.77036078e-01,  1.72997963e+00],\n",
       "       [ 1.56546761e+00, -8.87868281e-01, -6.96473946e-02],\n",
       "       [ 4.85175035e-01, -4.09592672e-01, -2.71475004e-01],\n",
       "       [ 1.07389352e+00,  7.42310554e-01, -1.57654592e+00],\n",
       "       [-1.00032209e-01,  1.55739997e+00,  1.10079735e+00],\n",
       "       [-1.42143016e+00, -8.27241795e-01,  3.04789130e-01],\n",
       "       [-6.55979090e-01, -1.54802335e+00,  2.21694524e-02],\n",
       "       [-1.56070949e+00, -1.54128707e+00,  1.34498122e-01],\n",
       "       [ 1.27520481e+00,  2.43826117e-01, -1.53942019e+00],\n",
       "       [ 9.28762125e-01, -1.01585753e+00,  1.05023964e+00],\n",
       "       [ 1.11485803e+00,  9.91552773e-01,  2.21694524e-02],\n",
       "       [ 3.42384467e-01, -5.30845643e-01, -2.30922849e+00],\n",
       "       [ 7.39154978e-01, -1.80559282e-01, -8.41172692e-01],\n",
       "       [-7.98769658e-01,  1.58434508e+00,  4.77359297e-01],\n",
       "       [-8.35052507e-01,  7.89464487e-01,  9.69018781e-01],\n",
       "       [-8.48168207e-02, -6.04944681e-01,  1.34498122e-01],\n",
       "       [-8.19837119e-01, -1.51434197e+00, -4.84294435e-01],\n",
       "       [-2.42822776e-01,  9.17453735e-01,  1.44550869e+00],\n",
       "       [-1.48697338e+00, -4.90427986e-01, -2.28521071e-02],\n",
       "       [-6.02381165e-02,  2.37089841e-01,  8.15753531e-01],\n",
       "       [-1.49399586e+00, -1.06460244e-01,  9.17017491e-01],\n",
       "       [ 9.07694664e-01, -1.40656155e+00, -4.25619460e-01],\n",
       "       [-2.73253553e-01,  7.62519383e-01, -6.80011583e-01],\n",
       "       [ 9.72067461e-01,  6.07585031e-01,  1.36903913e+00],\n",
       "       [-6.93432354e-01, -7.73351586e-01,  1.47820804e-01],\n",
       "       [-1.62274146e+00,  1.05217926e+00,  9.21630804e-01],\n",
       "       [-7.75361368e-01, -1.56823217e+00, -1.00415757e+00],\n",
       "       [ 8.64389328e-01,  1.73254315e+00, -2.05820877e+00],\n",
       "       [-1.01646675e+00, -7.59879033e-01,  7.35052784e-01],\n",
       "       [-1.70584089e+00,  1.09933319e+00, -1.06386495e+00],\n",
       "       [ 1.38990543e+00, -1.37288017e+00,  7.32356014e-01],\n",
       "       [-1.61571897e+00,  2.64034946e-01, -2.41896123e+00],\n",
       "       [ 8.58537256e-01,  6.88420345e-01,  7.87741098e-01],\n",
       "       [-1.28215084e+00,  1.03197043e+00,  1.22476940e+00],\n",
       "       [-1.14872359e+00,  1.59781763e+00, -1.08861432e+00],\n",
       "       [-1.41440768e+00,  1.05891553e+00, -9.92567952e-01],\n",
       "       [ 1.48939066e+00,  3.78551641e-01,  1.11457627e+00],\n",
       "       [-1.21075556e+00,  1.76463355e-01, -1.18361923e-01],\n",
       "       [ 4.50062600e-01,  1.38899307e+00, -2.58307371e+00],\n",
       "       [-8.54949553e-01, -4.23065224e-01, -6.36492916e-01],\n",
       "       [ 5.53059075e-01,  8.16409592e-01,  1.39095144e+00],\n",
       "       [ 8.66730157e-01,  6.68211516e-01,  5.86008924e-01],\n",
       "       [-4.89780233e-01, -1.18426443e+00,  4.74008303e-01],\n",
       "       [-5.88095050e-01, -5.71263300e-01,  6.16160967e-01],\n",
       "       [-7.19422613e-02, -1.44024293e+00, -1.02768164e+00],\n",
       "       [ 1.09613140e+00, -1.07648401e+00, -1.06386495e+00],\n",
       "       [ 1.13241425e+00,  1.73254315e+00,  7.66945351e-01],\n",
       "       [-1.26927628e+00,  1.14648712e+00, -7.25185343e-01],\n",
       "       [-1.19085851e+00,  1.69727079e-01, -1.12849492e-01],\n",
       "       [ 1.57131968e+00, -6.31889786e-01,  5.58201826e-01],\n",
       "       [-2.97832257e-01, -1.00238498e+00,  8.77063666e-01],\n",
       "       [ 5.98705240e-01,  1.32017473e-03, -5.30284439e-01],\n",
       "       [ 2.90886230e-01,  1.10606947e+00,  5.79885576e-01],\n",
       "       [ 4.84004620e-01, -1.46877901e-01, -9.69722503e-01],\n",
       "       [-1.66604679e+00, -7.86824138e-01, -1.50341966e+00],\n",
       "       [-6.15014583e-01,  1.36204796e+00,  9.19326387e-01],\n",
       "       [ 3.92471149e-02, -1.48066058e+00,  7.49748900e-02],\n",
       "       [-1.57709529e+00,  9.17453735e-01,  7.90315155e-01],\n",
       "       [-1.72597907e-01, -3.28757358e-01,  4.80700866e-01],\n",
       "       [ 3.04931204e-01, -3.48966186e-01,  3.42866965e-01],\n",
       "       [-7.10988571e-01,  8.43354697e-01,  8.91318958e-01],\n",
       "       [ 4.91027107e-01, -3.48966186e-01,  1.34498122e-01],\n",
       "       [ 1.99593900e-01,  9.10717459e-01, -1.23480070e+00],\n",
       "       [-3.42308008e-01, -5.77999576e-01, -1.55783803e+00],\n",
       "       [ 1.03058819e+00, -1.33919878e+00,  1.52568839e+00],\n",
       "       [-1.50452959e+00,  9.64607668e-01, -5.90879762e-02],\n",
       "       [ 7.06383373e-01, -1.21794581e+00, -1.80749500e-01],\n",
       "       [ 8.07039018e-01,  2.15290033e-02,  1.07275056e+00],\n",
       "       [ 1.61345460e+00, -8.54186900e-01, -1.38537244e+00],\n",
       "       [-1.12882654e+00, -7.86824138e-01, -2.40456878e-01],\n",
       "       [ 2.11298045e-01, -1.60350454e-01,  8.45577526e-01],\n",
       "       [-1.48463255e+00, -2.14240663e-01, -3.29434145e-01],\n",
       "       [ 2.56944210e-01, -1.08995657e+00, -6.45070042e-01],\n",
       "       [ 8.88968033e-01, -1.33919878e+00, -6.19522245e-01],\n",
       "       [ 1.52684393e+00,  1.72580688e+00,  6.99508021e-01],\n",
       "       [ 1.19327580e+00,  4.66123231e-01, -1.29464123e-01],\n",
       "       [ 2.78011670e-01, -1.04280263e+00,  5.00555257e-01],\n",
       "       [ 1.52450310e+00, -1.41329782e+00,  4.64632795e-02],\n",
       "       [ 2.24172604e-01, -8.94604557e-01, -2.90482238e-01],\n",
       "       [ 1.18835300e-01, -1.39308899e+00, -1.11389031e+00],\n",
       "       [ 8.43321868e-01, -1.20447326e+00,  2.12281105e-01],\n",
       "       [-1.05626084e+00, -1.18426443e+00,  3.04789130e-01],\n",
       "       [ 1.65207828e+00,  1.32836658e+00,  1.33050840e+00],\n",
       "       [ 1.25647818e+00, -1.33405349e-01,  3.16341182e-01],\n",
       "       [ 6.85315912e-01,  1.46982838e+00, -1.69159879e-01],\n",
       "       [-8.13055772e-02, -1.42677037e+00,  1.78338032e-01],\n",
       "       [ 5.22628298e-01,  3.65079088e-01, -2.52767110e-01],\n",
       "       [ 1.63335165e+00, -6.31889786e-01, -1.92459316e+00],\n",
       "       [-1.49516628e+00, -7.53142757e-01,  3.19466825e-02],\n",
       "       [-1.25172006e+00,  1.20037733e+00, -1.48582042e+00],\n",
       "       [-8.30370849e-01, -8.40714347e-01, -1.45138535e+00],\n",
       "       [-1.51272249e+00, -1.29204485e+00,  3.76123696e-01],\n",
       "       [ 2.38217578e-01,  1.26100382e+00, -1.95014096e+00],\n",
       "       [ 3.80767004e-02,  8.29882144e-01, -1.45138535e+00],\n",
       "       [-1.26693545e+00, -1.31898996e+00, -5.61964363e-01],\n",
       "       [-6.11503340e-01, -1.23815464e+00, -1.13971582e+00],\n",
       "       [ 3.57599855e-01, -9.41758490e-01, -1.38537244e+00],\n",
       "       [ 1.60526170e+00,  1.26100382e+00,  1.23542352e+00],\n",
       "       [ 1.00249824e+00, -9.88912423e-01, -1.06386495e+00]])"
      ]
     },
     "execution_count": 38,
     "metadata": {},
     "output_type": "execute_result"
    }
   ],
   "source": [
    "X1_scaled=Sc.fit_transform(X)\n",
    "X1_scaled"
   ]
  },
  {
   "cell_type": "code",
   "execution_count": 39,
   "metadata": {},
   "outputs": [
    {
     "data": {
      "text/plain": [
       "0   -0.063150\n",
       "1    0.090691\n",
       "2   -0.717354\n",
       "dtype: float64"
      ]
     },
     "execution_count": 39,
     "metadata": {},
     "output_type": "execute_result"
    }
   ],
   "source": [
    "(pd.DataFrame(X1_scaled)).skew()"
   ]
  },
  {
   "cell_type": "code",
   "execution_count": 40,
   "metadata": {},
   "outputs": [],
   "source": [
    "X1=pd.DataFrame(data=X_scaled,index=None,columns=X.columns)"
   ]
  },
  {
   "cell_type": "code",
   "execution_count": 41,
   "metadata": {},
   "outputs": [
    {
     "data": {
      "text/plain": [
       "(199, 3)"
      ]
     },
     "execution_count": 41,
     "metadata": {},
     "output_type": "execute_result"
    }
   ],
   "source": [
    "X1.shape"
   ]
  },
  {
   "cell_type": "code",
   "execution_count": 42,
   "metadata": {},
   "outputs": [
    {
     "data": {
      "text/html": [
       "<div>\n",
       "<style scoped>\n",
       "    .dataframe tbody tr th:only-of-type {\n",
       "        vertical-align: middle;\n",
       "    }\n",
       "\n",
       "    .dataframe tbody tr th {\n",
       "        vertical-align: top;\n",
       "    }\n",
       "\n",
       "    .dataframe thead th {\n",
       "        text-align: right;\n",
       "    }\n",
       "</style>\n",
       "<table border=\"1\" class=\"dataframe\">\n",
       "  <thead>\n",
       "    <tr style=\"text-align: right;\">\n",
       "      <th></th>\n",
       "      <th>TV</th>\n",
       "      <th>radio</th>\n",
       "      <th>newspaper</th>\n",
       "    </tr>\n",
       "  </thead>\n",
       "  <tbody>\n",
       "    <tr>\n",
       "      <td>0</td>\n",
       "      <td>0.775786</td>\n",
       "      <td>0.762097</td>\n",
       "      <td>0.879704</td>\n",
       "    </tr>\n",
       "    <tr>\n",
       "      <td>1</td>\n",
       "      <td>0.148123</td>\n",
       "      <td>0.792339</td>\n",
       "      <td>0.777211</td>\n",
       "    </tr>\n",
       "    <tr>\n",
       "      <td>2</td>\n",
       "      <td>0.055800</td>\n",
       "      <td>0.925403</td>\n",
       "      <td>0.880051</td>\n",
       "    </tr>\n",
       "    <tr>\n",
       "      <td>3</td>\n",
       "      <td>0.509976</td>\n",
       "      <td>0.832661</td>\n",
       "      <td>0.839400</td>\n",
       "    </tr>\n",
       "    <tr>\n",
       "      <td>4</td>\n",
       "      <td>0.609063</td>\n",
       "      <td>0.217742</td>\n",
       "      <td>0.838990</td>\n",
       "    </tr>\n",
       "  </tbody>\n",
       "</table>\n",
       "</div>"
      ],
      "text/plain": [
       "         TV     radio  newspaper\n",
       "0  0.775786  0.762097   0.879704\n",
       "1  0.148123  0.792339   0.777211\n",
       "2  0.055800  0.925403   0.880051\n",
       "3  0.509976  0.832661   0.839400\n",
       "4  0.609063  0.217742   0.838990"
      ]
     },
     "execution_count": 42,
     "metadata": {},
     "output_type": "execute_result"
    }
   ],
   "source": [
    "X1.head()"
   ]
  },
  {
   "cell_type": "code",
   "execution_count": 43,
   "metadata": {},
   "outputs": [],
   "source": [
    "y1=pd.DataFrame(y)"
   ]
  },
  {
   "cell_type": "code",
   "execution_count": 44,
   "metadata": {},
   "outputs": [
    {
     "data": {
      "text/plain": [
       "(199, 1)"
      ]
     },
     "execution_count": 44,
     "metadata": {},
     "output_type": "execute_result"
    }
   ],
   "source": [
    "y1.shape"
   ]
  },
  {
   "cell_type": "code",
   "execution_count": 45,
   "metadata": {},
   "outputs": [
    {
     "data": {
      "text/html": [
       "<div>\n",
       "<style scoped>\n",
       "    .dataframe tbody tr th:only-of-type {\n",
       "        vertical-align: middle;\n",
       "    }\n",
       "\n",
       "    .dataframe tbody tr th {\n",
       "        vertical-align: top;\n",
       "    }\n",
       "\n",
       "    .dataframe thead th {\n",
       "        text-align: right;\n",
       "    }\n",
       "</style>\n",
       "<table border=\"1\" class=\"dataframe\">\n",
       "  <thead>\n",
       "    <tr style=\"text-align: right;\">\n",
       "      <th></th>\n",
       "      <th>sales</th>\n",
       "    </tr>\n",
       "  </thead>\n",
       "  <tbody>\n",
       "    <tr>\n",
       "      <td>0</td>\n",
       "      <td>22.1</td>\n",
       "    </tr>\n",
       "    <tr>\n",
       "      <td>1</td>\n",
       "      <td>10.4</td>\n",
       "    </tr>\n",
       "    <tr>\n",
       "      <td>2</td>\n",
       "      <td>9.3</td>\n",
       "    </tr>\n",
       "    <tr>\n",
       "      <td>3</td>\n",
       "      <td>18.5</td>\n",
       "    </tr>\n",
       "    <tr>\n",
       "      <td>4</td>\n",
       "      <td>12.9</td>\n",
       "    </tr>\n",
       "  </tbody>\n",
       "</table>\n",
       "</div>"
      ],
      "text/plain": [
       "   sales\n",
       "0   22.1\n",
       "1   10.4\n",
       "2    9.3\n",
       "3   18.5\n",
       "4   12.9"
      ]
     },
     "execution_count": 45,
     "metadata": {},
     "output_type": "execute_result"
    }
   ],
   "source": [
    "y1.head()\n"
   ]
  },
  {
   "cell_type": "code",
   "execution_count": 46,
   "metadata": {},
   "outputs": [],
   "source": [
    "from sklearn.metrics import mean_absolute_error\n",
    "from sklearn.metrics import mean_squared_error\n",
    "from sklearn.metrics import r2_score"
   ]
  },
  {
   "cell_type": "code",
   "execution_count": 47,
   "metadata": {},
   "outputs": [],
   "source": [
    "from sklearn.linear_model import LinearRegression"
   ]
  },
  {
   "cell_type": "code",
   "execution_count": 48,
   "metadata": {},
   "outputs": [],
   "source": [
    "from sklearn.model_selection import train_test_split"
   ]
  },
  {
   "cell_type": "code",
   "execution_count": 49,
   "metadata": {},
   "outputs": [],
   "source": [
    "#train_X,test_X,train_y,test_y=train_test_split(X,y, random_state=61,test_size=.25)"
   ]
  },
  {
   "cell_type": "code",
   "execution_count": 50,
   "metadata": {},
   "outputs": [],
   "source": [
    "#lr=LinearRegression()"
   ]
  },
  {
   "cell_type": "code",
   "execution_count": 51,
   "metadata": {},
   "outputs": [],
   "source": [
    "#lr.fit(train_X,train_y)"
   ]
  },
  {
   "cell_type": "code",
   "execution_count": 52,
   "metadata": {},
   "outputs": [],
   "source": [
    "#lr.score(train_X,train_y)"
   ]
  },
  {
   "cell_type": "code",
   "execution_count": 53,
   "metadata": {},
   "outputs": [],
   "source": [
    "#predict=lr.predict(test_X)"
   ]
  },
  {
   "cell_type": "code",
   "execution_count": 54,
   "metadata": {},
   "outputs": [],
   "source": [
    "#r2_scor=r2_score(test_y,predict)\n",
    "#r2_scor"
   ]
  },
  {
   "cell_type": "code",
   "execution_count": 55,
   "metadata": {},
   "outputs": [],
   "source": [
    "#print('MSE=', mean_squared_error(test_y,predict)*100)"
   ]
  },
  {
   "cell_type": "code",
   "execution_count": 56,
   "metadata": {},
   "outputs": [],
   "source": [
    "#from sklearn.ensemble import RandomForestRegressor"
   ]
  },
  {
   "cell_type": "code",
   "execution_count": 57,
   "metadata": {},
   "outputs": [],
   "source": [
    "#Reg=RandomForestRegressor(max_depth=12,n_estimators=10)"
   ]
  },
  {
   "cell_type": "code",
   "execution_count": 58,
   "metadata": {},
   "outputs": [],
   "source": [
    "#Reg.fit(train_X,train_y)"
   ]
  },
  {
   "cell_type": "code",
   "execution_count": 59,
   "metadata": {},
   "outputs": [],
   "source": [
    "#Reg.score(train_X,train_y)"
   ]
  },
  {
   "cell_type": "code",
   "execution_count": 60,
   "metadata": {},
   "outputs": [],
   "source": [
    "#predict2=Reg.predict(test_X)"
   ]
  },
  {
   "cell_type": "code",
   "execution_count": 61,
   "metadata": {},
   "outputs": [],
   "source": [
    "#r2_scor2=r2_score(test_y,predict2)\n",
    "#r2_scor2"
   ]
  },
  {
   "cell_type": "code",
   "execution_count": 62,
   "metadata": {},
   "outputs": [],
   "source": [
    "#print('MSE=', mean_squared_error(test_y,predict2)*100)"
   ]
  },
  {
   "cell_type": "code",
   "execution_count": 63,
   "metadata": {},
   "outputs": [],
   "source": [
    "#from sklearn.ensemble import GradientBoostingRegressor"
   ]
  },
  {
   "cell_type": "code",
   "execution_count": 64,
   "metadata": {},
   "outputs": [],
   "source": [
    "#GB=GradientBoostingRegressor(random_state=96,n_estimators=200,subsample=0.7)"
   ]
  },
  {
   "cell_type": "code",
   "execution_count": 65,
   "metadata": {},
   "outputs": [],
   "source": [
    "#GB.fit(train_X,train_y)"
   ]
  },
  {
   "cell_type": "code",
   "execution_count": 66,
   "metadata": {},
   "outputs": [],
   "source": [
    "#predict3=GB.predict(test_X)"
   ]
  },
  {
   "cell_type": "code",
   "execution_count": 67,
   "metadata": {},
   "outputs": [],
   "source": [
    "#r2_scor3=r2_score(test_y,predict3)\n",
    "#r2_scor3"
   ]
  },
  {
   "cell_type": "code",
   "execution_count": 68,
   "metadata": {},
   "outputs": [],
   "source": [
    "#print('MSE=', mean_squared_error(test_y,predict3)*100)"
   ]
  },
  {
   "cell_type": "code",
   "execution_count": 69,
   "metadata": {},
   "outputs": [],
   "source": [
    "#from sklearn.neighbors import KNeighborsRegressor as KNN"
   ]
  },
  {
   "cell_type": "code",
   "execution_count": 70,
   "metadata": {},
   "outputs": [],
   "source": [
    "#kl=KNN(n_neighbors=7)"
   ]
  },
  {
   "cell_type": "code",
   "execution_count": 71,
   "metadata": {},
   "outputs": [],
   "source": [
    "#kl.fit(train_X,train_y)"
   ]
  },
  {
   "cell_type": "code",
   "execution_count": 72,
   "metadata": {},
   "outputs": [],
   "source": [
    "#predict4=kl.predict(test_X)"
   ]
  },
  {
   "cell_type": "code",
   "execution_count": 73,
   "metadata": {},
   "outputs": [],
   "source": [
    "#r2_scor4=r2_score(test_y,predict4)\n",
    "#r2_scor4"
   ]
  },
  {
   "cell_type": "code",
   "execution_count": 74,
   "metadata": {},
   "outputs": [],
   "source": [
    "#print('MSE=', mean_squared_error(test_y,predict4)*100)"
   ]
  },
  {
   "cell_type": "code",
   "execution_count": 137,
   "metadata": {},
   "outputs": [],
   "source": [
    "train_X,test_X,train_y,test_y=train_test_split(X1,y1,test_size=.30,random_state=120)"
   ]
  },
  {
   "cell_type": "code",
   "execution_count": 138,
   "metadata": {},
   "outputs": [],
   "source": [
    "from sklearn.linear_model import LinearRegression\n",
    "from sklearn.tree import DecisionTreeRegressor\n",
    "from sklearn.neighbors import KNeighborsRegressor\n",
    "from sklearn.svm import SVR\n",
    "from sklearn.ensemble import RandomForestRegressor\n",
    "from sklearn.ensemble import GradientBoostingRegressor\n",
    "from sklearn.ensemble import AdaBoostRegressor"
   ]
  },
  {
   "cell_type": "code",
   "execution_count": 139,
   "metadata": {},
   "outputs": [],
   "source": [
    "LR=LinearRegression()\n",
    "DTR=DecisionTreeRegressor(random_state=7)\n",
    "KN=KNeighborsRegressor(n_neighbors=7)\n",
    "SVMR=SVR()\n",
    "RFR=RandomForestRegressor(n_estimators=12,max_depth=12)\n",
    "GBR=GradientBoostingRegressor()\n",
    "ABR=AdaBoostRegressor()"
   ]
  },
  {
   "cell_type": "code",
   "execution_count": 140,
   "metadata": {},
   "outputs": [],
   "source": [
    "model_list=[]"
   ]
  },
  {
   "cell_type": "code",
   "execution_count": 141,
   "metadata": {},
   "outputs": [],
   "source": [
    "model_list.append(('LinearRegression', LR))"
   ]
  },
  {
   "cell_type": "code",
   "execution_count": 142,
   "metadata": {},
   "outputs": [],
   "source": [
    "model_list.append(('DecisionTreeRegressor', DTR))"
   ]
  },
  {
   "cell_type": "code",
   "execution_count": 143,
   "metadata": {},
   "outputs": [],
   "source": [
    "model_list.append(('KNeighborsRegressor', KN))"
   ]
  },
  {
   "cell_type": "code",
   "execution_count": 144,
   "metadata": {},
   "outputs": [],
   "source": [
    "model_list.append(('SVR', SVMR))"
   ]
  },
  {
   "cell_type": "code",
   "execution_count": 145,
   "metadata": {},
   "outputs": [],
   "source": [
    "model_list.append(('RandomForestRegressor', RFR))"
   ]
  },
  {
   "cell_type": "code",
   "execution_count": 146,
   "metadata": {},
   "outputs": [],
   "source": [
    "model_list.append(('AdaBoostingRegressor', ABR))"
   ]
  },
  {
   "cell_type": "code",
   "execution_count": 147,
   "metadata": {},
   "outputs": [],
   "source": [
    "from sklearn.model_selection import cross_val_score"
   ]
  },
  {
   "cell_type": "code",
   "execution_count": 148,
   "metadata": {},
   "outputs": [
    {
     "name": "stdout",
     "output_type": "stream",
     "text": [
      "************************************** LinearRegression ***********************************************\n",
      "LinearRegression(copy_X=True, fit_intercept=True, n_jobs=None, normalize=False)\n",
      "\n",
      "\n",
      "mean absolue error is: 1.308393043013391\n",
      "\n",
      "\n",
      "mean squared error is: 2.9763235006669633\n",
      "\n",
      "\n",
      "cross_val is 0.8657146706793014\n",
      "\n",
      "\n",
      "r2_scor is : 0.8862159500109167\n",
      "************************************** DecisionTreeRegressor ***********************************************\n",
      "DecisionTreeRegressor(criterion='mse', max_depth=None, max_features=None,\n",
      "                      max_leaf_nodes=None, min_impurity_decrease=0.0,\n",
      "                      min_impurity_split=None, min_samples_leaf=1,\n",
      "                      min_samples_split=2, min_weight_fraction_leaf=0.0,\n",
      "                      presort=False, random_state=7, splitter='best')\n",
      "\n",
      "\n",
      "mean absolue error is: 0.8566666666666668\n",
      "\n",
      "\n",
      "mean squared error is: 1.0696666666666668\n",
      "\n",
      "\n",
      "cross_val is 0.9178270934630861\n",
      "\n",
      "\n",
      "r2_scor is : 0.9661641698522121\n",
      "************************************** KNeighborsRegressor ***********************************************\n",
      "KNeighborsRegressor(algorithm='auto', leaf_size=30, metric='minkowski',\n",
      "                    metric_params=None, n_jobs=None, n_neighbors=7, p=2,\n",
      "                    weights='uniform')\n",
      "\n",
      "\n",
      "mean absolue error is: 1.1561904761904762\n",
      "\n",
      "\n",
      "mean squared error is: 2.5016530612244905\n",
      "\n",
      "\n",
      "cross_val is 0.9056165943941238\n",
      "\n",
      "\n",
      "r2_scor is : 0.8852717327299102\n",
      "************************************** SVR ***********************************************\n",
      "SVR(C=1.0, cache_size=200, coef0=0.0, degree=3, epsilon=0.1,\n",
      "    gamma='auto_deprecated', kernel='rbf', max_iter=-1, shrinking=True,\n",
      "    tol=0.001, verbose=False)\n",
      "\n",
      "\n",
      "mean absolue error is: 1.6896340141985016\n",
      "\n",
      "\n",
      "mean squared error is: 5.590368090857541\n",
      "\n",
      "\n",
      "cross_val is 0.7965471421456894\n",
      "\n",
      "\n",
      "r2_scor is : 0.5662119671049213\n",
      "************************************** RandomForestRegressor ***********************************************\n",
      "RandomForestRegressor(bootstrap=True, criterion='mse', max_depth=12,\n",
      "                      max_features='auto', max_leaf_nodes=None,\n",
      "                      min_impurity_decrease=0.0, min_impurity_split=None,\n",
      "                      min_samples_leaf=1, min_samples_split=2,\n",
      "                      min_weight_fraction_leaf=0.0, n_estimators=12,\n",
      "                      n_jobs=None, oob_score=False, random_state=None,\n",
      "                      verbose=0, warm_start=False)\n",
      "\n",
      "\n",
      "mean absolue error is: 0.6623611111111115\n",
      "\n",
      "\n",
      "mean squared error is: 0.6678483796296307\n",
      "\n",
      "\n",
      "cross_val is 0.9650871381485538\n",
      "\n",
      "\n",
      "r2_scor is : 0.9769065955098366\n",
      "************************************** AdaBoostingRegressor ***********************************************\n",
      "AdaBoostRegressor(base_estimator=None, learning_rate=1.0, loss='linear',\n",
      "                  n_estimators=50, random_state=None)\n",
      "\n",
      "\n",
      "mean absolue error is: 0.9615340256920855\n",
      "\n",
      "\n",
      "mean squared error is: 1.363936463176301\n",
      "\n",
      "\n",
      "cross_val is 0.930080696845418\n",
      "\n",
      "\n",
      "r2_scor is : 0.9473074552890576\n"
     ]
    }
   ],
   "source": [
    "Model=[]\n",
    "MAE=[]\n",
    "MSA=[]\n",
    "CS=[]\n",
    "r2_scor=[]\n",
    "\n",
    "for name,model in model_list:\n",
    "    print('**************************************',name,'***********************************************')\n",
    "    Model.append(name)\n",
    "    model.fit(train_X,train_y)\n",
    "    print(model)\n",
    "    pred=model.predict(test_X)\n",
    "    print('\\n')\n",
    "    Abs=mean_absolute_error(pred,test_y)\n",
    "    print('mean absolue error is:',Abs)\n",
    "    MAE.append(Abs*100)\n",
    "    print('\\n')\n",
    "    ms=mean_squared_error(pred,test_y)\n",
    "    print('mean squared error is:',ms)\n",
    "    MSA.append(ms*100)\n",
    "    print('\\n')\n",
    "    cs=cross_val_score(model,X=train_X,y=train_y, cv=10,scoring='r2').mean()\n",
    "    print('cross_val is',cs)\n",
    "    CS.append(cs*100)\n",
    "    print('\\n')\n",
    "    r=r2_score(pred,test_y)\n",
    "    print('r2_scor is :',r)\n",
    "    r2_scor.append(r*100)\n",
    "    \n",
    "    \n",
    "\n"
   ]
  },
  {
   "cell_type": "code",
   "execution_count": 149,
   "metadata": {},
   "outputs": [],
   "source": [
    "best_model=pd.DataFrame({'Model': Model,'Mean Absolute Error': MAE,'Mean Squared Error': MSA,\n",
    "                         'CV_Score':CS,'R2_score':r2_scor})"
   ]
  },
  {
   "cell_type": "code",
   "execution_count": 150,
   "metadata": {},
   "outputs": [
    {
     "data": {
      "text/html": [
       "<div>\n",
       "<style scoped>\n",
       "    .dataframe tbody tr th:only-of-type {\n",
       "        vertical-align: middle;\n",
       "    }\n",
       "\n",
       "    .dataframe tbody tr th {\n",
       "        vertical-align: top;\n",
       "    }\n",
       "\n",
       "    .dataframe thead th {\n",
       "        text-align: right;\n",
       "    }\n",
       "</style>\n",
       "<table border=\"1\" class=\"dataframe\">\n",
       "  <thead>\n",
       "    <tr style=\"text-align: right;\">\n",
       "      <th></th>\n",
       "      <th>Model</th>\n",
       "      <th>Mean Absolute Error</th>\n",
       "      <th>Mean Squared Error</th>\n",
       "      <th>CV_Score</th>\n",
       "      <th>R2_score</th>\n",
       "    </tr>\n",
       "  </thead>\n",
       "  <tbody>\n",
       "    <tr>\n",
       "      <td>0</td>\n",
       "      <td>LinearRegression</td>\n",
       "      <td>130.839304</td>\n",
       "      <td>297.632350</td>\n",
       "      <td>86.571467</td>\n",
       "      <td>88.621595</td>\n",
       "    </tr>\n",
       "    <tr>\n",
       "      <td>1</td>\n",
       "      <td>DecisionTreeRegressor</td>\n",
       "      <td>85.666667</td>\n",
       "      <td>106.966667</td>\n",
       "      <td>91.782709</td>\n",
       "      <td>96.616417</td>\n",
       "    </tr>\n",
       "    <tr>\n",
       "      <td>2</td>\n",
       "      <td>KNeighborsRegressor</td>\n",
       "      <td>115.619048</td>\n",
       "      <td>250.165306</td>\n",
       "      <td>90.561659</td>\n",
       "      <td>88.527173</td>\n",
       "    </tr>\n",
       "    <tr>\n",
       "      <td>3</td>\n",
       "      <td>SVR</td>\n",
       "      <td>168.963401</td>\n",
       "      <td>559.036809</td>\n",
       "      <td>79.654714</td>\n",
       "      <td>56.621197</td>\n",
       "    </tr>\n",
       "    <tr>\n",
       "      <td>4</td>\n",
       "      <td>RandomForestRegressor</td>\n",
       "      <td>66.236111</td>\n",
       "      <td>66.784838</td>\n",
       "      <td>96.508714</td>\n",
       "      <td>97.690660</td>\n",
       "    </tr>\n",
       "    <tr>\n",
       "      <td>5</td>\n",
       "      <td>AdaBoostingRegressor</td>\n",
       "      <td>96.153403</td>\n",
       "      <td>136.393646</td>\n",
       "      <td>93.008070</td>\n",
       "      <td>94.730746</td>\n",
       "    </tr>\n",
       "  </tbody>\n",
       "</table>\n",
       "</div>"
      ],
      "text/plain": [
       "                   Model  Mean Absolute Error  Mean Squared Error   CV_Score  \\\n",
       "0       LinearRegression           130.839304          297.632350  86.571467   \n",
       "1  DecisionTreeRegressor            85.666667          106.966667  91.782709   \n",
       "2    KNeighborsRegressor           115.619048          250.165306  90.561659   \n",
       "3                    SVR           168.963401          559.036809  79.654714   \n",
       "4  RandomForestRegressor            66.236111           66.784838  96.508714   \n",
       "5   AdaBoostingRegressor            96.153403          136.393646  93.008070   \n",
       "\n",
       "    R2_score  \n",
       "0  88.621595  \n",
       "1  96.616417  \n",
       "2  88.527173  \n",
       "3  56.621197  \n",
       "4  97.690660  \n",
       "5  94.730746  "
      ]
     },
     "execution_count": 150,
     "metadata": {},
     "output_type": "execute_result"
    }
   ],
   "source": [
    "best_model"
   ]
  },
  {
   "cell_type": "markdown",
   "metadata": {},
   "source": []
  },
  {
   "cell_type": "markdown",
   "metadata": {},
   "source": [
    "I am selecting Random Forest Regressor as my final model as it has least MSE and very good CV and R2_score\n"
   ]
  },
  {
   "cell_type": "code",
   "execution_count": 153,
   "metadata": {},
   "outputs": [],
   "source": [
    "#using gridsearchcv to tune parameters of Random forest\n",
    "from sklearn.model_selection import GridSearchCV"
   ]
  },
  {
   "cell_type": "code",
   "execution_count": 156,
   "metadata": {},
   "outputs": [],
   "source": [
    "param_grid = {\n",
    "    'bootstrap': [True],\n",
    "    'max_depth': [80, 90, 100, 110],\n",
    "    'max_features': [2, 3],\n",
    "    'min_samples_leaf': [3, 4, 5],\n",
    "    'min_samples_split': [8, 10, 12],\n",
    "    'n_estimators': [100, 200, 300, 500]\n",
    "    }"
   ]
  },
  {
   "cell_type": "code",
   "execution_count": 157,
   "metadata": {},
   "outputs": [],
   "source": [
    "grid_search=GridSearchCV(estimator= RFR,param_grid= param_grid,\n",
    "                        scoring='r2', cv=10, n_jobs=-1)"
   ]
  },
  {
   "cell_type": "code",
   "execution_count": 158,
   "metadata": {},
   "outputs": [],
   "source": [
    "grid_search=grid_search.fit(train_X,train_y)"
   ]
  },
  {
   "cell_type": "code",
   "execution_count": 159,
   "metadata": {},
   "outputs": [],
   "source": [
    "score=grid_search.best_score_"
   ]
  },
  {
   "cell_type": "code",
   "execution_count": 160,
   "metadata": {},
   "outputs": [
    {
     "data": {
      "text/plain": [
       "0.9548328324031127"
      ]
     },
     "execution_count": 160,
     "metadata": {},
     "output_type": "execute_result"
    }
   ],
   "source": [
    "score"
   ]
  },
  {
   "cell_type": "code",
   "execution_count": 161,
   "metadata": {},
   "outputs": [
    {
     "data": {
      "text/plain": [
       "{'bootstrap': True,\n",
       " 'max_depth': 80,\n",
       " 'max_features': 3,\n",
       " 'min_samples_leaf': 3,\n",
       " 'min_samples_split': 8,\n",
       " 'n_estimators': 500}"
      ]
     },
     "execution_count": 161,
     "metadata": {},
     "output_type": "execute_result"
    }
   ],
   "source": [
    "grid_search.best_params_"
   ]
  },
  {
   "cell_type": "code",
   "execution_count": 162,
   "metadata": {},
   "outputs": [
    {
     "name": "stderr",
     "output_type": "stream",
     "text": [
      "C:\\Users\\Ankit\\Anaconda3\\lib\\site-packages\\sklearn\\externals\\joblib\\__init__.py:15: DeprecationWarning: sklearn.externals.joblib is deprecated in 0.21 and will be removed in 0.23. Please import this functionality directly from joblib, which can be installed with: pip install joblib. If this warning is raised when loading pickled models, you may need to re-serialize those models with scikit-learn 0.21+.\n",
      "  warnings.warn(msg, category=DeprecationWarning)\n"
     ]
    }
   ],
   "source": [
    "#saving the model\n",
    "from sklearn.externals import joblib"
   ]
  },
  {
   "cell_type": "code",
   "execution_count": 164,
   "metadata": {},
   "outputs": [
    {
     "data": {
      "text/plain": [
       "['RFR_joblib']"
      ]
     },
     "execution_count": 164,
     "metadata": {},
     "output_type": "execute_result"
    }
   ],
   "source": [
    "joblib.dump(RFR,'RFR_joblib')"
   ]
  },
  {
   "cell_type": "code",
   "execution_count": null,
   "metadata": {},
   "outputs": [],
   "source": []
  }
 ],
 "metadata": {
  "kernelspec": {
   "display_name": "Python 3",
   "language": "python",
   "name": "python3"
  },
  "language_info": {
   "codemirror_mode": {
    "name": "ipython",
    "version": 3
   },
   "file_extension": ".py",
   "mimetype": "text/x-python",
   "name": "python",
   "nbconvert_exporter": "python",
   "pygments_lexer": "ipython3",
   "version": "3.7.4"
  }
 },
 "nbformat": 4,
 "nbformat_minor": 2
}
